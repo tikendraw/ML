{
 "cells": [
  {
   "cell_type": "markdown",
   "id": "7a47cd5e",
   "metadata": {},
   "source": [
    "# Random Forest Classifier on iris Dataset"
   ]
  },
  {
   "cell_type": "code",
   "execution_count": 1,
   "id": "1635e1e7",
   "metadata": {},
   "outputs": [],
   "source": [
    "from sklearn.model_selection import train_test_split\n",
    "import pandas  as pd\n",
    "from sklearn.datasets import load_digits\n",
    "from sklearn.ensemble import RandomForestClassifier"
   ]
  },
  {
   "cell_type": "code",
   "execution_count": 2,
   "id": "45a555a4",
   "metadata": {},
   "outputs": [
    {
     "data": {
      "text/plain": [
       "['DESCR', 'data', 'feature_names', 'frame', 'images', 'target', 'target_names']"
      ]
     },
     "execution_count": 2,
     "metadata": {},
     "output_type": "execute_result"
    }
   ],
   "source": [
    "digits = load_digits()\n",
    "dir(digits)"
   ]
  },
  {
   "cell_type": "code",
   "execution_count": 3,
   "id": "048ce9d2",
   "metadata": {},
   "outputs": [],
   "source": [
    "df = pd.DataFrame(digits.data,columns =digits.feature_names)\n",
    "df['target']= digits.target\n",
    "X =df.drop('target',axis = 'columns')\n",
    "\n",
    "y = df.target"
   ]
  },
  {
   "cell_type": "code",
   "execution_count": 36,
   "id": "98c703ae",
   "metadata": {},
   "outputs": [],
   "source": [
    "name = ['Random state','N estimator','Score' ]\n",
    "c=[]\n",
    "for i in range(5):\n",
    "    Xtrain, Xtest, ytrain, ytest = train_test_split(X,y,test_size = 0.2,random_state = i) \n",
    "#     Xtrain, Xtest, ytrain, ytest = [*a]\n",
    "    for j in range(10):\n",
    "        model = RandomForestClassifier(n_estimators=100+10*j)\n",
    "        model.fit(Xtrain,ytrain)\n",
    "        s = model.score(Xtest,ytest)\n",
    "        c.append([i, 100+10*j, float(s.round(3))])\n",
    "\n",
    "b = pd.DataFrame(c,columns = name)"
   ]
  },
  {
   "cell_type": "code",
   "execution_count": 45,
   "id": "6c4ca658",
   "metadata": {},
   "outputs": [
    {
     "data": {
      "text/plain": [
       "Random state      4.000\n",
       "N estimator     150.000\n",
       "Score             0.989\n",
       "Name: 45, dtype: float64"
      ]
     },
     "execution_count": 45,
     "metadata": {},
     "output_type": "execute_result"
    }
   ],
   "source": [
    "highestScore = b.loc[b['Score'].idxmax()]\n",
    "highestScore"
   ]
  },
  {
   "cell_type": "code",
   "execution_count": null,
   "id": "bf0bdea9",
   "metadata": {},
   "outputs": [],
   "source": []
  },
  {
   "cell_type": "code",
   "execution_count": null,
   "id": "fca904c5",
   "metadata": {},
   "outputs": [],
   "source": []
  }
 ],
 "metadata": {
  "kernelspec": {
   "display_name": "Python 3",
   "language": "python",
   "name": "python3"
  },
  "language_info": {
   "codemirror_mode": {
    "name": "ipython",
    "version": 3
   },
   "file_extension": ".py",
   "mimetype": "text/x-python",
   "name": "python",
   "nbconvert_exporter": "python",
   "pygments_lexer": "ipython3",
   "version": "3.8.8"
  }
 },
 "nbformat": 4,
 "nbformat_minor": 5
}
