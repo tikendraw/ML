{
 "cells": [
  {
   "cell_type": "markdown",
   "id": "ee469fe4",
   "metadata": {},
   "source": [
    "# spam detection"
   ]
  },
  {
   "cell_type": "code",
   "execution_count": 70,
   "id": "e90cd0cd",
   "metadata": {},
   "outputs": [],
   "source": [
    "from sklearn.naive_bayes import BernoulliNB ,GaussianNB ,MultinomialNB\n",
    "from sklearn.model_selection import cross_val_score\n",
    "from sklearn.feature_extraction.text import CountVectorizer\n",
    "from sklearn.model_selection import train_test_split\n",
    "import pandas as pd"
   ]
  },
  {
   "cell_type": "code",
   "execution_count": 87,
   "id": "1e66245a",
   "metadata": {},
   "outputs": [
    {
     "data": {
      "text/html": [
       "<div>\n",
       "<style scoped>\n",
       "    .dataframe tbody tr th:only-of-type {\n",
       "        vertical-align: middle;\n",
       "    }\n",
       "\n",
       "    .dataframe tbody tr th {\n",
       "        vertical-align: top;\n",
       "    }\n",
       "\n",
       "    .dataframe thead th {\n",
       "        text-align: right;\n",
       "    }\n",
       "</style>\n",
       "<table border=\"1\" class=\"dataframe\">\n",
       "  <thead>\n",
       "    <tr style=\"text-align: right;\">\n",
       "      <th></th>\n",
       "      <th>Category</th>\n",
       "      <th>Message</th>\n",
       "      <th>Spam</th>\n",
       "    </tr>\n",
       "  </thead>\n",
       "  <tbody>\n",
       "    <tr>\n",
       "      <th>0</th>\n",
       "      <td>ham</td>\n",
       "      <td>Go until jurong point, crazy.. Available only ...</td>\n",
       "      <td>0</td>\n",
       "    </tr>\n",
       "    <tr>\n",
       "      <th>1</th>\n",
       "      <td>ham</td>\n",
       "      <td>Ok lar... Joking wif u oni...</td>\n",
       "      <td>0</td>\n",
       "    </tr>\n",
       "    <tr>\n",
       "      <th>2</th>\n",
       "      <td>spam</td>\n",
       "      <td>Free entry in 2 a wkly comp to win FA Cup fina...</td>\n",
       "      <td>1</td>\n",
       "    </tr>\n",
       "    <tr>\n",
       "      <th>3</th>\n",
       "      <td>ham</td>\n",
       "      <td>U dun say so early hor... U c already then say...</td>\n",
       "      <td>0</td>\n",
       "    </tr>\n",
       "    <tr>\n",
       "      <th>4</th>\n",
       "      <td>ham</td>\n",
       "      <td>Nah I don't think he goes to usf, he lives aro...</td>\n",
       "      <td>0</td>\n",
       "    </tr>\n",
       "  </tbody>\n",
       "</table>\n",
       "</div>"
      ],
      "text/plain": [
       "  Category                                            Message  Spam\n",
       "0      ham  Go until jurong point, crazy.. Available only ...     0\n",
       "1      ham                      Ok lar... Joking wif u oni...     0\n",
       "2     spam  Free entry in 2 a wkly comp to win FA Cup fina...     1\n",
       "3      ham  U dun say so early hor... U c already then say...     0\n",
       "4      ham  Nah I don't think he goes to usf, he lives aro...     0"
      ]
     },
     "execution_count": 87,
     "metadata": {},
     "output_type": "execute_result"
    }
   ],
   "source": [
    "spam = pd.read_csv('spam.csv')\n",
    "spam.head()\n",
    "\n",
    "#creating spam column as target \n",
    "spam[\"Spam\"] = spam.Category.apply(lambda x: 1 if x== 'spam' else 0)\n",
    "spam.head()"
   ]
  },
  {
   "cell_type": "code",
   "execution_count": 83,
   "id": "5cc6ae6d",
   "metadata": {},
   "outputs": [],
   "source": [
    "#vectorize the messsage\n",
    "X = spam.Message\n",
    "y = spam.Spam"
   ]
  },
  {
   "cell_type": "code",
   "execution_count": 84,
   "id": "e0302343",
   "metadata": {},
   "outputs": [],
   "source": [
    "Xtrain,Xtest,ytrain,ytest = train_test_split(X,y,test_size = .1)"
   ]
  },
  {
   "cell_type": "code",
   "execution_count": 88,
   "id": "af4df1e8",
   "metadata": {},
   "outputs": [
    {
     "data": {
      "text/plain": [
       "array([[0, 0, 0, ..., 0, 0, 0],\n",
       "       [0, 0, 0, ..., 0, 0, 0],\n",
       "       [0, 0, 0, ..., 0, 0, 0]], dtype=int64)"
      ]
     },
     "execution_count": 88,
     "metadata": {},
     "output_type": "execute_result"
    }
   ],
   "source": [
    "vector = CountVectorizer()\n",
    "Xtrain_vector = vector.fit_transform(Xtrain.values).toarray()\n",
    "# t=X.toarray()\n",
    "# t[2]\n",
    "Xtrain_vector[:3]"
   ]
  },
  {
   "cell_type": "code",
   "execution_count": 97,
   "id": "db9bcc71",
   "metadata": {},
   "outputs": [],
   "source": [
    "X_vector = vector.transform(X).toarray()"
   ]
  },
  {
   "cell_type": "code",
   "execution_count": 98,
   "id": "08c7dc16",
   "metadata": {},
   "outputs": [
    {
     "data": {
      "text/html": [
       "<div>\n",
       "<style scoped>\n",
       "    .dataframe tbody tr th:only-of-type {\n",
       "        vertical-align: middle;\n",
       "    }\n",
       "\n",
       "    .dataframe tbody tr th {\n",
       "        vertical-align: top;\n",
       "    }\n",
       "\n",
       "    .dataframe thead th {\n",
       "        text-align: right;\n",
       "    }\n",
       "</style>\n",
       "<table border=\"1\" class=\"dataframe\">\n",
       "  <thead>\n",
       "    <tr style=\"text-align: right;\">\n",
       "      <th></th>\n",
       "      <th>Bernoulli</th>\n",
       "      <th>Multinomial</th>\n",
       "      <th>Gaussian</th>\n",
       "    </tr>\n",
       "  </thead>\n",
       "  <tbody>\n",
       "    <tr>\n",
       "      <th>Train test split</th>\n",
       "      <td>0.985663</td>\n",
       "      <td>0.991039</td>\n",
       "      <td>0.905018</td>\n",
       "    </tr>\n",
       "    <tr>\n",
       "      <th>Cross Validation</th>\n",
       "      <td>0.970926</td>\n",
       "      <td>0.980438</td>\n",
       "      <td>0.907753</td>\n",
       "    </tr>\n",
       "  </tbody>\n",
       "</table>\n",
       "</div>"
      ],
      "text/plain": [
       "                  Bernoulli  Multinomial  Gaussian\n",
       "Train test split   0.985663     0.991039  0.905018\n",
       "Cross Validation   0.970926     0.980438  0.907753"
      ]
     },
     "execution_count": 98,
     "metadata": {},
     "output_type": "execute_result"
    }
   ],
   "source": [
    "#model building and training\n",
    "model1 = BernoulliNB()\n",
    "model2 = MultinomialNB()\n",
    "model3 = GaussianNB()\n",
    "\n",
    "model1.fit(Xtrain_vector,ytrain)\n",
    "model2.fit(Xtrain_vector,ytrain)\n",
    "model3.fit(Xtrain_vector,ytrain)\n",
    "\n",
    "tts1 = model1.score(vector.transform(Xtest).toarray(),ytest)\n",
    "tts2 = model2.score(vector.transform(Xtest).toarray(),ytest)\n",
    "tts3 = model3.score(vector.transform(Xtest).toarray(),ytest)\n",
    "\n",
    "score1 = cross_val_score(model1,X_vector,y,cv = 2)\n",
    "score2 = cross_val_score(model2,X_vector,y,cv = 2)\n",
    "score3 = cross_val_score(model3,X_vector,y,cv = 2)\n",
    "\n",
    "\n",
    "data = { \"Bernoulli\":[tts1,score1.mean()]\n",
    "       ,'Multinomial':[tts2,score2.mean()],\n",
    "            'Gaussian':[tts3,score3.mean()]}\n",
    "da = pd.DataFrame(data,index=['Train test split','Cross Validation'])\n",
    "\n",
    "da"
   ]
  },
  {
   "cell_type": "markdown",
   "id": "577d0818",
   "metadata": {},
   "source": [
    "# using above thing with PIPELINE"
   ]
  },
  {
   "cell_type": "code",
   "execution_count": 100,
   "id": "a29fba6c",
   "metadata": {},
   "outputs": [],
   "source": [
    "from sklearn.pipeline import Pipeline\n",
    "\n",
    "pipe = Pipeline([\n",
    "    ('vectorizer',CountVectorizer()),\n",
    "    ('model1',model1)\n",
    "])"
   ]
  },
  {
   "cell_type": "code",
   "execution_count": 101,
   "id": "4db20583",
   "metadata": {},
   "outputs": [
    {
     "data": {
      "text/plain": [
       "Pipeline(steps=[('vectorizer', CountVectorizer()), ('model1', BernoulliNB())])"
      ]
     },
     "execution_count": 101,
     "metadata": {},
     "output_type": "execute_result"
    }
   ],
   "source": [
    "pipe.fit(Xtrain,ytrain)"
   ]
  },
  {
   "cell_type": "code",
   "execution_count": 102,
   "id": "a4d14aa9",
   "metadata": {},
   "outputs": [
    {
     "data": {
      "text/plain": [
       "0.985663082437276"
      ]
     },
     "execution_count": 102,
     "metadata": {},
     "output_type": "execute_result"
    }
   ],
   "source": [
    "pipe.score(Xtest,ytest)"
   ]
  }
 ],
 "metadata": {
  "kernelspec": {
   "display_name": "Python 3",
   "language": "python",
   "name": "python3"
  },
  "language_info": {
   "codemirror_mode": {
    "name": "ipython",
    "version": 3
   },
   "file_extension": ".py",
   "mimetype": "text/x-python",
   "name": "python",
   "nbconvert_exporter": "python",
   "pygments_lexer": "ipython3",
   "version": "3.8.8"
  }
 },
 "nbformat": 4,
 "nbformat_minor": 5
}
