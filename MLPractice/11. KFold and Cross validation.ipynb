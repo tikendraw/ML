{
 "cells": [
  {
   "cell_type": "code",
   "execution_count": 3,
   "id": "e13f9595",
   "metadata": {},
   "outputs": [],
   "source": [
    "from sklearn.datasets import load_digits\n",
    "import pandas as pd\n",
    "from sklearn.linear_model import LogisticRegression\n",
    "from sklearn.ensemble import RandomForestClassifier\n",
    "from sklearn.svm import SVC\n",
    "from sklearn.model_selection import cross_val_score"
   ]
  },
  {
   "cell_type": "code",
   "execution_count": 8,
   "id": "8c08afba",
   "metadata": {},
   "outputs": [
    {
     "data": {
      "text/plain": [
       "['DESCR', 'data', 'feature_names', 'frame', 'images', 'target', 'target_names']"
      ]
     },
     "execution_count": 8,
     "metadata": {},
     "output_type": "execute_result"
    }
   ],
   "source": [
    "digits = load_digits()\n",
    "dir(digits)"
   ]
  },
  {
   "cell_type": "code",
   "execution_count": 11,
   "id": "47c04311",
   "metadata": {},
   "outputs": [],
   "source": [
    "X = digits.data\n",
    "y = digits.target"
   ]
  },
  {
   "cell_type": "code",
   "execution_count": 25,
   "id": "de4b6b30",
   "metadata": {},
   "outputs": [],
   "source": [
    "log = LogisticRegression(solver = 'saga',max_iter = 2000)\n",
    "svm = SVC()\n",
    "forest = RandomForestClassifier(n_estimators = 50)"
   ]
  },
  {
   "cell_type": "code",
   "execution_count": 26,
   "id": "6322f8bc",
   "metadata": {},
   "outputs": [
    {
     "name": "stdout",
     "output_type": "stream",
     "text": [
      "log score calculated  0.9154363974001857\n",
      "SVM score calculated  0.9632838130609718\n",
      "Random Forest Classifier score calculated  0.9338037759207676\n"
     ]
    }
   ],
   "source": [
    "name = ['Logistic Regression','SVM','Random Forest']\n",
    "scored = []\n",
    "\n",
    "def getscore():\n",
    "    #logistic model is slowest\n",
    "    log_score = cross_val_score(log,X,y ,cv = 5)\n",
    "    print(\"log score calculated \",log_score.mean(),flush = True )\n",
    "    svm_score = cross_val_score(svm,X,y,cv = 5)\n",
    "    print(\"SVM score calculated \",svm_score.mean(),flush = True )\n",
    "    forest_score = cross_val_score(forest,X,y,cv=5)\n",
    "    print(\"Random Forest Classifier score calculated \",forest_score.mean(),flush = True )\n",
    "    scored.append([log_score.mean(),svm_score.mean(),forest_score.mean()])\n",
    "    \n",
    "\n",
    "getscore()"
   ]
  },
  {
   "cell_type": "code",
   "execution_count": 28,
   "id": "1e03f311",
   "metadata": {},
   "outputs": [
    {
     "name": "stdout",
     "output_type": "stream",
     "text": [
      "log score calculated  0.9148792943361188\n"
     ]
    }
   ],
   "source": [
    "log_score = cross_val_score(log,X,y ,cv = 5)\n",
    "print(\"log score calculated \",log_score.mean(),flush = True )"
   ]
  },
  {
   "cell_type": "code",
   "execution_count": 29,
   "id": "d1a1ad0c",
   "metadata": {},
   "outputs": [
    {
     "name": "stdout",
     "output_type": "stream",
     "text": [
      "SVM score calculated  0.9632838130609718\n"
     ]
    }
   ],
   "source": [
    "svm_score = cross_val_score(svm,X,y,cv = 5)\n",
    "print(\"SVM score calculated \",svm_score.mean(),flush = True )"
   ]
  },
  {
   "cell_type": "code",
   "execution_count": 30,
   "id": "0ecbf42d",
   "metadata": {},
   "outputs": [
    {
     "name": "stdout",
     "output_type": "stream",
     "text": [
      "Random Forest Classifier score calculated  0.9354611575363665\n"
     ]
    }
   ],
   "source": [
    "forest_score = cross_val_score(forest,X,y,cv=5)\n",
    "print(\"Random Forest Classifier score calculated \",forest_score.mean(),flush = True )"
   ]
  },
  {
   "cell_type": "code",
   "execution_count": 27,
   "id": "34561bd2",
   "metadata": {},
   "outputs": [
    {
     "data": {
      "text/html": [
       "<div>\n",
       "<style scoped>\n",
       "    .dataframe tbody tr th:only-of-type {\n",
       "        vertical-align: middle;\n",
       "    }\n",
       "\n",
       "    .dataframe tbody tr th {\n",
       "        vertical-align: top;\n",
       "    }\n",
       "\n",
       "    .dataframe thead th {\n",
       "        text-align: right;\n",
       "    }\n",
       "</style>\n",
       "<table border=\"1\" class=\"dataframe\">\n",
       "  <thead>\n",
       "    <tr style=\"text-align: right;\">\n",
       "      <th></th>\n",
       "      <th>Logistic Regression</th>\n",
       "      <th>SVM</th>\n",
       "      <th>Random Forest</th>\n",
       "    </tr>\n",
       "  </thead>\n",
       "  <tbody>\n",
       "    <tr>\n",
       "      <th>0</th>\n",
       "      <td>0.915436</td>\n",
       "      <td>0.963284</td>\n",
       "      <td>0.933804</td>\n",
       "    </tr>\n",
       "  </tbody>\n",
       "</table>\n",
       "</div>"
      ],
      "text/plain": [
       "   Logistic Regression       SVM  Random Forest\n",
       "0             0.915436  0.963284       0.933804"
      ]
     },
     "execution_count": 27,
     "metadata": {},
     "output_type": "execute_result"
    }
   ],
   "source": [
    "score = pd.DataFrame(scored,columns = name)\n",
    "score"
   ]
  },
  {
   "cell_type": "code",
   "execution_count": null,
   "id": "6e7c0878",
   "metadata": {},
   "outputs": [],
   "source": []
  }
 ],
 "metadata": {
  "kernelspec": {
   "display_name": "Python 3",
   "language": "python",
   "name": "python3"
  },
  "language_info": {
   "codemirror_mode": {
    "name": "ipython",
    "version": 3
   },
   "file_extension": ".py",
   "mimetype": "text/x-python",
   "name": "python",
   "nbconvert_exporter": "python",
   "pygments_lexer": "ipython3",
   "version": "3.8.8"
  }
 },
 "nbformat": 4,
 "nbformat_minor": 5
}
