{
 "cells": [
  {
   "cell_type": "markdown",
   "id": "bf523d9c",
   "metadata": {},
   "source": [
    "### We will see how we can select best parameter and best model for our model in handwritten digits datasets"
   ]
  },
  {
   "cell_type": "code",
   "execution_count": 88,
   "id": "8ba195ca",
   "metadata": {},
   "outputs": [],
   "source": [
    "from sklearn.svm import SVC\n",
    "from sklearn.ensemble import RandomForestClassifier\n",
    "from sklearn.linear_model import LogisticRegression\n",
    "from sklearn.naive_bayes import GaussianNB\n",
    "from sklearn.naive_bayes import MultinomialNB\n",
    "from sklearn.tree import DecisionTreeClassifier\n",
    "from sklearn.datasets import load_digits\n",
    "from sklearn.model_selection import RandomizedSearchCV\n",
    "from sklearn.model_selection import GridSearchCV\n",
    "import pandas as pd"
   ]
  },
  {
   "cell_type": "code",
   "execution_count": 89,
   "id": "1ebc274b",
   "metadata": {},
   "outputs": [],
   "source": [
    "digits = load_digits()\n",
    "dir(digits)\n",
    "data = pd.DataFrame(digits.data,columns =digits.feature_names )\n",
    "data['target']=digits.target\n",
    "# data[:4]"
   ]
  },
  {
   "cell_type": "markdown",
   "id": "1b5e9708",
   "metadata": {},
   "source": [
    "### Instanciate the MOdel"
   ]
  },
  {
   "cell_type": "code",
   "execution_count": 90,
   "id": "8450c939",
   "metadata": {},
   "outputs": [],
   "source": [
    "svc = SVC()\n",
    "# kernal C gamma\n",
    "\n",
    "rf = RandomForestClassifier()\n",
    "# n_estimators=100,criterion : {\"gini\", \"entropy\"}\n",
    "\n",
    "log = LogisticRegression()\n",
    "# solver=['lbfgs','sag', 'saga','newton-cg'] ,max_iter : 1000\n",
    "\n",
    "gaussian = GaussianNB()\n",
    "# var_smoothing : [i for i in range(1,11)]\n",
    "\n",
    "multinomial = MultinomialNB()"
   ]
  },
  {
   "cell_type": "markdown",
   "id": "4e97cc51",
   "metadata": {},
   "source": [
    "### Model and parameter selection "
   ]
  },
  {
   "cell_type": "code",
   "execution_count": 104,
   "id": "8cbea07c",
   "metadata": {},
   "outputs": [],
   "source": [
    "# not using logisticregrsssion because it takes a lot of time and i dont have a good computer\n",
    "\n",
    "# LogisticRegression(max_iter = 10000)\n",
    "# {'solver':['lbfgs','sag', 'saga','newton-cg']},\n",
    "\n",
    "models = [SVC(),RandomForestClassifier(),GaussianNB()]\n",
    "params = [{'kernel' : ['linear', 'poly', 'rbf', 'sigmoid'],'gamma':['scale', 'auto'],\n",
    "               'C' : [i for i in range(1,51,5)]},\n",
    "         {'n_estimators':[100+50*i for i in range(5)],\n",
    "          'criterion' : [\"gini\", \"entropy\"]},\n",
    "         \n",
    "          {'var_smoothing' : [i for i in range(1,11)]}]\n",
    "\n",
    "\n"
   ]
  },
  {
   "cell_type": "code",
   "execution_count": 105,
   "id": "39a5e88f",
   "metadata": {},
   "outputs": [
    {
     "data": {
      "text/plain": [
       "0    0\n",
       "1    1\n",
       "2    2\n",
       "3    3\n",
       "4    4\n",
       "Name: target, dtype: int32"
      ]
     },
     "execution_count": 105,
     "metadata": {},
     "output_type": "execute_result"
    }
   ],
   "source": [
    "X = data.drop('target',axis = 'columns')\n",
    "y = data.target\n",
    "y.head()"
   ]
  },
  {
   "cell_type": "code",
   "execution_count": 110,
   "id": "abf2a2ec",
   "metadata": {},
   "outputs": [
    {
     "name": "stdout",
     "output_type": "stream",
     "text": [
      "Model: SVC()\n",
      " Best estimator: SVC(C=11),\n",
      " Best Parameters: {'kernel': 'rbf', 'gamma': 'scale', 'C': 11}, \n",
      " Best Score: 0.9738502011761063\n",
      "Model: RandomForestClassifier()\n",
      " Best estimator: RandomForestClassifier(criterion='entropy', n_estimators=150),\n",
      " Best Parameters: {'n_estimators': 150, 'criterion': 'entropy'}, \n",
      " Best Score: 0.9421402042711234\n",
      "Model: GaussianNB()\n",
      " Best estimator: GaussianNB(var_smoothing=1),\n",
      " Best Parameters: {'var_smoothing': 1}, \n",
      " Best Score: 0.8820303311668214\n"
     ]
    }
   ],
   "source": [
    "for i in range(len(models)):\n",
    "    g = RandomizedSearchCV(models[i],params[i])\n",
    "    g.fit(X,y)\n",
    "    output = print(f'Model: {str(models[i])}\\n Best estimator: {g.best_estimator_},\\n Best Parameters: {g.best_params_}, \\n Best Score: {g.best_score_}',flush = True)\n",
    "    "
   ]
  },
  {
   "cell_type": "markdown",
   "id": "bf2f6489",
   "metadata": {},
   "source": [
    "## Clearly SVC performed really well comparatively\n",
    " \n",
    " ### more parameters can be tweaked for better results"
   ]
  },
  {
   "cell_type": "code",
   "execution_count": null,
   "id": "59ad1c29",
   "metadata": {},
   "outputs": [],
   "source": []
  }
 ],
 "metadata": {
  "kernelspec": {
   "display_name": "Python 3",
   "language": "python",
   "name": "python3"
  },
  "language_info": {
   "codemirror_mode": {
    "name": "ipython",
    "version": 3
   },
   "file_extension": ".py",
   "mimetype": "text/x-python",
   "name": "python",
   "nbconvert_exporter": "python",
   "pygments_lexer": "ipython3",
   "version": "3.8.8"
  }
 },
 "nbformat": 4,
 "nbformat_minor": 5
}
