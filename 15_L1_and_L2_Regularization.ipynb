{
  "nbformat": 4,
  "nbformat_minor": 5,
  "metadata": {
    "kernelspec": {
      "display_name": "Python 3",
      "language": "python",
      "name": "python3"
    },
    "language_info": {
      "codemirror_mode": {
        "name": "ipython",
        "version": 3
      },
      "file_extension": ".py",
      "mimetype": "text/x-python",
      "name": "python",
      "nbconvert_exporter": "python",
      "pygments_lexer": "ipython3",
      "version": "3.8.8"
    },
    "colab": {
      "name": "15. L1 and L2 Regularization.ipynb",
      "provenance": [],
      "collapsed_sections": [],
      "include_colab_link": true
    }
  },
  "cells": [
    {
      "cell_type": "markdown",
      "metadata": {
        "id": "view-in-github",
        "colab_type": "text"
      },
      "source": [
        "<a href=\"https://colab.research.google.com/github/tikendraw/ML/blob/master/15_L1_and_L2_Regularization.ipynb\" target=\"_parent\"><img src=\"https://colab.research.google.com/assets/colab-badge.svg\" alt=\"Open In Colab\"/></a>"
      ]
    },
    {
      "cell_type": "markdown",
      "metadata": {
        "id": "2a981bb1"
      },
      "source": [
        "# L1 and L2 regularization\n",
        "\n",
        "L1 and L2 regularization are method used for correcting overfitted and underfitted data by adding a compensator mathematical expression to regularize. This expression is controlable according to the need and acts as a nob.\n",
        "\n",
        "1.Loss function Equation(L)\n",
        "2.Equation for L1 regularization(L1)\n",
        "3.L2 regularization eQuation(L2)\n"
      ],
      "id": "2a981bb1"
    },
    {
      "cell_type": "code",
      "metadata": {
        "id": "1115671b"
      },
      "source": [
        "# from IPython.display import Image, display\n",
        "\n",
        "# listOfImageNames = ['l.png',\n",
        "#                     'l1.png','l2.png']\n",
        "\n",
        "# for imageName in listOfImageNames:\n",
        "#     display(Image(filename=imageName,height = 20,width= 200))"
      ],
      "id": "1115671b",
      "execution_count": null,
      "outputs": []
    },
    {
      "cell_type": "code",
      "metadata": {
        "id": "55fd2cad"
      },
      "source": [
        "from sklearn.linear_model import LogisticRegression\n",
        "import pandas as pd\n",
        "from sklearn.linear_model import LassoCV, Lasso, Ridge"
      ],
      "id": "55fd2cad",
      "execution_count": 1,
      "outputs": []
    },
    {
      "cell_type": "code",
      "metadata": {
        "colab": {
          "base_uri": "https://localhost:8080/",
          "height": 330
        },
        "id": "523541d3",
        "outputId": "4389efb5-c4d4-4ff1-b8d7-8fae6d31bbca"
      },
      "source": [
        "data = pd.read_csv('/content/Housing.csv')\n",
        "data.head()\n",
        "# data.groupby('YearBuilt').describe()\n",
        "\n"
      ],
      "id": "523541d3",
      "execution_count": 4,
      "outputs": [
        {
          "output_type": "execute_result",
          "data": {
            "text/html": [
              "<div>\n",
              "<style scoped>\n",
              "    .dataframe tbody tr th:only-of-type {\n",
              "        vertical-align: middle;\n",
              "    }\n",
              "\n",
              "    .dataframe tbody tr th {\n",
              "        vertical-align: top;\n",
              "    }\n",
              "\n",
              "    .dataframe thead th {\n",
              "        text-align: right;\n",
              "    }\n",
              "</style>\n",
              "<table border=\"1\" class=\"dataframe\">\n",
              "  <thead>\n",
              "    <tr style=\"text-align: right;\">\n",
              "      <th></th>\n",
              "      <th>Suburb</th>\n",
              "      <th>Address</th>\n",
              "      <th>Rooms</th>\n",
              "      <th>Type</th>\n",
              "      <th>Price</th>\n",
              "      <th>Method</th>\n",
              "      <th>SellerG</th>\n",
              "      <th>Date</th>\n",
              "      <th>Distance</th>\n",
              "      <th>Postcode</th>\n",
              "      <th>Bedroom2</th>\n",
              "      <th>Bathroom</th>\n",
              "      <th>Car</th>\n",
              "      <th>Landsize</th>\n",
              "      <th>BuildingArea</th>\n",
              "      <th>YearBuilt</th>\n",
              "      <th>CouncilArea</th>\n",
              "      <th>Lattitude</th>\n",
              "      <th>Longtitude</th>\n",
              "      <th>Regionname</th>\n",
              "      <th>Propertycount</th>\n",
              "    </tr>\n",
              "  </thead>\n",
              "  <tbody>\n",
              "    <tr>\n",
              "      <th>0</th>\n",
              "      <td>Abbotsford</td>\n",
              "      <td>68 Studley St</td>\n",
              "      <td>2</td>\n",
              "      <td>h</td>\n",
              "      <td>NaN</td>\n",
              "      <td>SS</td>\n",
              "      <td>Jellis</td>\n",
              "      <td>3/09/2016</td>\n",
              "      <td>2.5</td>\n",
              "      <td>3067.0</td>\n",
              "      <td>2.0</td>\n",
              "      <td>1.0</td>\n",
              "      <td>1.0</td>\n",
              "      <td>126.0</td>\n",
              "      <td>NaN</td>\n",
              "      <td>NaN</td>\n",
              "      <td>Yarra City Council</td>\n",
              "      <td>-37.8014</td>\n",
              "      <td>144.9958</td>\n",
              "      <td>Northern Metropolitan</td>\n",
              "      <td>4019.0</td>\n",
              "    </tr>\n",
              "    <tr>\n",
              "      <th>1</th>\n",
              "      <td>Abbotsford</td>\n",
              "      <td>85 Turner St</td>\n",
              "      <td>2</td>\n",
              "      <td>h</td>\n",
              "      <td>1480000.0</td>\n",
              "      <td>S</td>\n",
              "      <td>Biggin</td>\n",
              "      <td>3/12/2016</td>\n",
              "      <td>2.5</td>\n",
              "      <td>3067.0</td>\n",
              "      <td>2.0</td>\n",
              "      <td>1.0</td>\n",
              "      <td>1.0</td>\n",
              "      <td>202.0</td>\n",
              "      <td>NaN</td>\n",
              "      <td>NaN</td>\n",
              "      <td>Yarra City Council</td>\n",
              "      <td>-37.7996</td>\n",
              "      <td>144.9984</td>\n",
              "      <td>Northern Metropolitan</td>\n",
              "      <td>4019.0</td>\n",
              "    </tr>\n",
              "    <tr>\n",
              "      <th>2</th>\n",
              "      <td>Abbotsford</td>\n",
              "      <td>25 Bloomburg St</td>\n",
              "      <td>2</td>\n",
              "      <td>h</td>\n",
              "      <td>1035000.0</td>\n",
              "      <td>S</td>\n",
              "      <td>Biggin</td>\n",
              "      <td>4/02/2016</td>\n",
              "      <td>2.5</td>\n",
              "      <td>3067.0</td>\n",
              "      <td>2.0</td>\n",
              "      <td>1.0</td>\n",
              "      <td>0.0</td>\n",
              "      <td>156.0</td>\n",
              "      <td>79.0</td>\n",
              "      <td>1900.0</td>\n",
              "      <td>Yarra City Council</td>\n",
              "      <td>-37.8079</td>\n",
              "      <td>144.9934</td>\n",
              "      <td>Northern Metropolitan</td>\n",
              "      <td>4019.0</td>\n",
              "    </tr>\n",
              "    <tr>\n",
              "      <th>3</th>\n",
              "      <td>Abbotsford</td>\n",
              "      <td>18/659 Victoria St</td>\n",
              "      <td>3</td>\n",
              "      <td>u</td>\n",
              "      <td>NaN</td>\n",
              "      <td>VB</td>\n",
              "      <td>Rounds</td>\n",
              "      <td>4/02/2016</td>\n",
              "      <td>2.5</td>\n",
              "      <td>3067.0</td>\n",
              "      <td>3.0</td>\n",
              "      <td>2.0</td>\n",
              "      <td>1.0</td>\n",
              "      <td>0.0</td>\n",
              "      <td>NaN</td>\n",
              "      <td>NaN</td>\n",
              "      <td>Yarra City Council</td>\n",
              "      <td>-37.8114</td>\n",
              "      <td>145.0116</td>\n",
              "      <td>Northern Metropolitan</td>\n",
              "      <td>4019.0</td>\n",
              "    </tr>\n",
              "    <tr>\n",
              "      <th>4</th>\n",
              "      <td>Abbotsford</td>\n",
              "      <td>5 Charles St</td>\n",
              "      <td>3</td>\n",
              "      <td>h</td>\n",
              "      <td>1465000.0</td>\n",
              "      <td>SP</td>\n",
              "      <td>Biggin</td>\n",
              "      <td>4/03/2017</td>\n",
              "      <td>2.5</td>\n",
              "      <td>3067.0</td>\n",
              "      <td>3.0</td>\n",
              "      <td>2.0</td>\n",
              "      <td>0.0</td>\n",
              "      <td>134.0</td>\n",
              "      <td>150.0</td>\n",
              "      <td>1900.0</td>\n",
              "      <td>Yarra City Council</td>\n",
              "      <td>-37.8093</td>\n",
              "      <td>144.9944</td>\n",
              "      <td>Northern Metropolitan</td>\n",
              "      <td>4019.0</td>\n",
              "    </tr>\n",
              "  </tbody>\n",
              "</table>\n",
              "</div>"
            ],
            "text/plain": [
              "       Suburb             Address  ...             Regionname Propertycount\n",
              "0  Abbotsford       68 Studley St  ...  Northern Metropolitan        4019.0\n",
              "1  Abbotsford        85 Turner St  ...  Northern Metropolitan        4019.0\n",
              "2  Abbotsford     25 Bloomburg St  ...  Northern Metropolitan        4019.0\n",
              "3  Abbotsford  18/659 Victoria St  ...  Northern Metropolitan        4019.0\n",
              "4  Abbotsford        5 Charles St  ...  Northern Metropolitan        4019.0\n",
              "\n",
              "[5 rows x 21 columns]"
            ]
          },
          "metadata": {},
          "execution_count": 4
        }
      ]
    },
    {
      "cell_type": "code",
      "metadata": {
        "id": "e5d04a9e"
      },
      "source": [
        "# dropping some columns which is irrelavent to the prediction\n",
        "datanew = data.drop(['Address','Date','Postcode','Longtitude','Lattitude','YearBuilt'],axis = 1)\n",
        "datanew.head()"
      ],
      "id": "e5d04a9e",
      "execution_count": null,
      "outputs": []
    },
    {
      "cell_type": "code",
      "metadata": {
        "id": "f0db3c58"
      },
      "source": [
        "datanew.shape"
      ],
      "id": "f0db3c58",
      "execution_count": null,
      "outputs": []
    },
    {
      "cell_type": "code",
      "metadata": {
        "id": "a79e7cc1"
      },
      "source": [
        "#check for null values\n",
        "datanew.isna().sum()"
      ],
      "id": "a79e7cc1",
      "execution_count": null,
      "outputs": []
    },
    {
      "cell_type": "code",
      "metadata": {
        "id": "12cabac9"
      },
      "source": [
        "#filling the na values\n",
        "import math\n",
        "datanew['Bedroom2'] = datanew.Bedroom2.fillna(math.floor(datanew.Bedroom2.mean()))\n",
        "datanew['Bathroom'] = datanew.Bathroom.fillna(math.floor(datanew.Bathroom.mean()))\n",
        "datanew['Car'] = datanew.Car.fillna(math.floor(datanew.Car.mean()))\n",
        "datanew['Landsize'] = datanew.Landsize.fillna(math.floor(datanew.Landsize.mean()))\n",
        "datanew['BuildingArea'] = datanew.BuildingArea.fillna(math.floor(datanew.BuildingArea.mean()))\n",
        "datanew['Price'] = datanew.Price.fillna(math.floor(datanew.Price.mean()))\n",
        "datanew.dropna(inplace = True)\n",
        "datanew.isna().sum()"
      ],
      "id": "12cabac9",
      "execution_count": null,
      "outputs": []
    },
    {
      "cell_type": "code",
      "metadata": {
        "scrolled": true,
        "id": "4bc91ceb"
      },
      "source": [
        "#dummy encoding the categorical values\n",
        "datanew = pd.get_dummies(datanew,drop_first = True)\n",
        "datanew"
      ],
      "id": "4bc91ceb",
      "execution_count": null,
      "outputs": []
    },
    {
      "cell_type": "code",
      "metadata": {
        "id": "836da50e"
      },
      "source": [
        "X = datanew.drop('Price',axis = 1)\n",
        "y = datanew.Price\n",
        "\n",
        "from sklearn.model_selection import train_test_split\n",
        "Xtrain,Xtest,ytrain,ytest = train_test_split(X,y,test_size = .2)"
      ],
      "id": "836da50e",
      "execution_count": 9,
      "outputs": []
    },
    {
      "cell_type": "code",
      "metadata": {
        "id": "28f6e741"
      },
      "source": [
        "#model building and fitting\n",
        "# log = LogisticRegression(max_iter = 1000)\n",
        "# log.fit(Xtrain,ytrain)\n",
        "\n",
        "lasso = Lasso(max_iter = 1000)\n",
        "lasso.fit(Xtrain,ytrain)\n",
        "\n",
        "# ridge = Ridge(alpha = 50,tol = .1,max_iter = 1000)\n",
        "# ridge.fit(Xtrain,ytrain)\n",
        "\n"
      ],
      "id": "28f6e741",
      "execution_count": null,
      "outputs": []
    },
    {
      "cell_type": "code",
      "metadata": {
        "id": "d5fa5bc4"
      },
      "source": [
        "log.score(Xtest,ytest),lasso.score(Xtest,ytest),ridge.score(Xtest,ytest)"
      ],
      "id": "d5fa5bc4",
      "execution_count": null,
      "outputs": []
    },
    {
      "cell_type": "code",
      "metadata": {
        "id": "637aefb0"
      },
      "source": [
        "lassocv = LassoCV(cv = 5,random_state = 3,tol = .1,max_iter = 1000)\n",
        "lassocv.fit(X,y)"
      ],
      "id": "637aefb0",
      "execution_count": null,
      "outputs": []
    },
    {
      "cell_type": "code",
      "metadata": {
        "id": "8709e60f"
      },
      "source": [
        "lassocv.predict(Xtest)"
      ],
      "id": "8709e60f",
      "execution_count": null,
      "outputs": []
    },
    {
      "cell_type": "code",
      "metadata": {
        "id": "c078553d"
      },
      "source": [
        "lassocv.score(Xtest,ytest)"
      ],
      "id": "c078553d",
      "execution_count": null,
      "outputs": []
    },
    {
      "cell_type": "code",
      "metadata": {
        "id": "03a29b43"
      },
      "source": [
        "from sklearn.model_selection import RandomizedSearchCV\n",
        "\n",
        "random = RandomizedSearchCV(Lasso(max_iter = 1000,normalize = True),{\n",
        "    'alpha':[i for i in range(100)],\n",
        "    'tol':[i/100 for i in range(1,10)]}\n",
        "                     ,n_iter = 5  )"
      ],
      "id": "03a29b43",
      "execution_count": 15,
      "outputs": []
    },
    {
      "cell_type": "code",
      "metadata": {
        "colab": {
          "base_uri": "https://localhost:8080/"
        },
        "id": "e7d491f8",
        "outputId": "bf3dfe97-b6ed-4762-9a9b-e3cdb58ac699"
      },
      "source": [
        "random.fit(X,y)"
      ],
      "id": "e7d491f8",
      "execution_count": 16,
      "outputs": [
        {
          "output_type": "execute_result",
          "data": {
            "text/plain": [
              "RandomizedSearchCV(cv=None, error_score=nan,\n",
              "                   estimator=Lasso(alpha=1.0, copy_X=True, fit_intercept=True,\n",
              "                                   max_iter=1000, normalize=True,\n",
              "                                   positive=False, precompute=False,\n",
              "                                   random_state=None, selection='cyclic',\n",
              "                                   tol=0.0001, warm_start=False),\n",
              "                   iid='deprecated', n_iter=5, n_jobs=None,\n",
              "                   param_distributions={'alpha': [0, 1, 2, 3, 4, 5, 6, 7, 8, 9,\n",
              "                                                  10, 11, 12, 13, 14, 15, 16,\n",
              "                                                  17, 18, 19, 20, 21, 22, 23,\n",
              "                                                  24, 25, 26, 27, 28, 29, ...],\n",
              "                                        'tol': [0.01, 0.02, 0.03, 0.04, 0.05,\n",
              "                                                0.06, 0.07, 0.08, 0.09]},\n",
              "                   pre_dispatch='2*n_jobs', random_state=None, refit=True,\n",
              "                   return_train_score=False, scoring=None, verbose=0)"
            ]
          },
          "metadata": {},
          "execution_count": 16
        }
      ]
    },
    {
      "cell_type": "code",
      "metadata": {
        "colab": {
          "base_uri": "https://localhost:8080/"
        },
        "id": "90cace8e",
        "outputId": "3136afe6-c0c0-4788-f536-857eb07f3217"
      },
      "source": [
        "random.best_score_\n",
        "random.best_params_"
      ],
      "id": "90cace8e",
      "execution_count": 18,
      "outputs": [
        {
          "output_type": "execute_result",
          "data": {
            "text/plain": [
              "{'alpha': 19, 'tol': 0.02}"
            ]
          },
          "metadata": {},
          "execution_count": 18
        }
      ]
    },
    {
      "cell_type": "code",
      "metadata": {
        "id": "o_Dj6R--5R8t"
      },
      "source": [
        "lasso = Lasso(alpha=500,normalize=False,max_iter=100000).fit(Xtrain,ytrain)"
      ],
      "id": "o_Dj6R--5R8t",
      "execution_count": 27,
      "outputs": []
    },
    {
      "cell_type": "code",
      "metadata": {
        "colab": {
          "base_uri": "https://localhost:8080/"
        },
        "id": "8RtgZEaq5zuM",
        "outputId": "13b9bffc-c948-40e1-c9bf-43eb21a9fdd8"
      },
      "source": [
        "lasso.score(Xtest,ytest)"
      ],
      "id": "8RtgZEaq5zuM",
      "execution_count": 28,
      "outputs": [
        {
          "output_type": "execute_result",
          "data": {
            "text/plain": [
              "0.45576798759940684"
            ]
          },
          "metadata": {},
          "execution_count": 28
        }
      ]
    }
  ]
}